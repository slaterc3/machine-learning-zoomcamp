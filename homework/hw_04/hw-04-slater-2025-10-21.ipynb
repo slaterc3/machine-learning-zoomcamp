{
 "cells": [
  {
   "cell_type": "code",
   "execution_count": 1,
   "id": "29cadcd5",
   "metadata": {},
   "outputs": [],
   "source": [
    "import pandas as pd \n",
    "import numpy as np\n",
    "import matplotlib.pyplot as plt"
   ]
  },
  {
   "cell_type": "code",
   "execution_count": 2,
   "id": "9d354972",
   "metadata": {},
   "outputs": [],
   "source": [
    "df = pd.read_csv('course_lead_scoring.csv')"
   ]
  },
  {
   "cell_type": "code",
   "execution_count": 3,
   "id": "17b0b5ae",
   "metadata": {},
   "outputs": [
    {
     "data": {
      "text/html": [
       "<div>\n",
       "<style scoped>\n",
       "    .dataframe tbody tr th:only-of-type {\n",
       "        vertical-align: middle;\n",
       "    }\n",
       "\n",
       "    .dataframe tbody tr th {\n",
       "        vertical-align: top;\n",
       "    }\n",
       "\n",
       "    .dataframe thead th {\n",
       "        text-align: right;\n",
       "    }\n",
       "</style>\n",
       "<table border=\"1\" class=\"dataframe\">\n",
       "  <thead>\n",
       "    <tr style=\"text-align: right;\">\n",
       "      <th></th>\n",
       "      <th>lead_source</th>\n",
       "      <th>industry</th>\n",
       "      <th>number_of_courses_viewed</th>\n",
       "      <th>annual_income</th>\n",
       "      <th>employment_status</th>\n",
       "      <th>location</th>\n",
       "      <th>interaction_count</th>\n",
       "      <th>lead_score</th>\n",
       "      <th>converted</th>\n",
       "    </tr>\n",
       "  </thead>\n",
       "  <tbody>\n",
       "    <tr>\n",
       "      <th>0</th>\n",
       "      <td>paid_ads</td>\n",
       "      <td>NaN</td>\n",
       "      <td>1</td>\n",
       "      <td>79450.0</td>\n",
       "      <td>unemployed</td>\n",
       "      <td>south_america</td>\n",
       "      <td>4</td>\n",
       "      <td>0.94</td>\n",
       "      <td>1</td>\n",
       "    </tr>\n",
       "    <tr>\n",
       "      <th>1</th>\n",
       "      <td>social_media</td>\n",
       "      <td>retail</td>\n",
       "      <td>1</td>\n",
       "      <td>46992.0</td>\n",
       "      <td>employed</td>\n",
       "      <td>south_america</td>\n",
       "      <td>1</td>\n",
       "      <td>0.80</td>\n",
       "      <td>0</td>\n",
       "    </tr>\n",
       "    <tr>\n",
       "      <th>2</th>\n",
       "      <td>events</td>\n",
       "      <td>healthcare</td>\n",
       "      <td>5</td>\n",
       "      <td>78796.0</td>\n",
       "      <td>unemployed</td>\n",
       "      <td>australia</td>\n",
       "      <td>3</td>\n",
       "      <td>0.69</td>\n",
       "      <td>1</td>\n",
       "    </tr>\n",
       "    <tr>\n",
       "      <th>3</th>\n",
       "      <td>paid_ads</td>\n",
       "      <td>retail</td>\n",
       "      <td>2</td>\n",
       "      <td>83843.0</td>\n",
       "      <td>NaN</td>\n",
       "      <td>australia</td>\n",
       "      <td>1</td>\n",
       "      <td>0.87</td>\n",
       "      <td>0</td>\n",
       "    </tr>\n",
       "    <tr>\n",
       "      <th>4</th>\n",
       "      <td>referral</td>\n",
       "      <td>education</td>\n",
       "      <td>3</td>\n",
       "      <td>85012.0</td>\n",
       "      <td>self_employed</td>\n",
       "      <td>europe</td>\n",
       "      <td>3</td>\n",
       "      <td>0.62</td>\n",
       "      <td>1</td>\n",
       "    </tr>\n",
       "  </tbody>\n",
       "</table>\n",
       "</div>"
      ],
      "text/plain": [
       "    lead_source    industry  number_of_courses_viewed  annual_income  \\\n",
       "0      paid_ads         NaN                         1        79450.0   \n",
       "1  social_media      retail                         1        46992.0   \n",
       "2        events  healthcare                         5        78796.0   \n",
       "3      paid_ads      retail                         2        83843.0   \n",
       "4      referral   education                         3        85012.0   \n",
       "\n",
       "  employment_status       location  interaction_count  lead_score  converted  \n",
       "0        unemployed  south_america                  4        0.94          1  \n",
       "1          employed  south_america                  1        0.80          0  \n",
       "2        unemployed      australia                  3        0.69          1  \n",
       "3               NaN      australia                  1        0.87          0  \n",
       "4     self_employed         europe                  3        0.62          1  "
      ]
     },
     "execution_count": 3,
     "metadata": {},
     "output_type": "execute_result"
    }
   ],
   "source": [
    "df.head()"
   ]
  },
  {
   "cell_type": "code",
   "execution_count": 4,
   "id": "eb23e55f",
   "metadata": {},
   "outputs": [
    {
     "data": {
      "text/plain": [
       "lead_source                 128\n",
       "industry                    134\n",
       "number_of_courses_viewed      0\n",
       "annual_income               181\n",
       "employment_status           100\n",
       "location                     63\n",
       "interaction_count             0\n",
       "lead_score                    0\n",
       "converted                     0\n",
       "dtype: int64"
      ]
     },
     "execution_count": 4,
     "metadata": {},
     "output_type": "execute_result"
    }
   ],
   "source": [
    "df.isnull().sum()"
   ]
  },
  {
   "cell_type": "code",
   "execution_count": 5,
   "id": "d833c060",
   "metadata": {},
   "outputs": [
    {
     "data": {
      "text/plain": [
       "lead_source                  object\n",
       "industry                     object\n",
       "number_of_courses_viewed      int64\n",
       "annual_income               float64\n",
       "employment_status            object\n",
       "location                     object\n",
       "interaction_count             int64\n",
       "lead_score                  float64\n",
       "converted                     int64\n",
       "dtype: object"
      ]
     },
     "execution_count": 5,
     "metadata": {},
     "output_type": "execute_result"
    }
   ],
   "source": [
    "df.dtypes"
   ]
  },
  {
   "cell_type": "code",
   "execution_count": 6,
   "id": "30d6fa70",
   "metadata": {},
   "outputs": [],
   "source": [
    "categorical_cols = ['lead_source', 'industry','employment_status', 'location']"
   ]
  },
  {
   "cell_type": "code",
   "execution_count": 7,
   "id": "52351038",
   "metadata": {},
   "outputs": [],
   "source": [
    "# lead_source                  object\n",
    "# industry                     object\n",
    "# number_of_courses_viewed      int64\n",
    "# annual_income               float64\n",
    "# employment_status            object\n",
    "# location                     object\n",
    "# interaction_count             int64\n",
    "# lead_score                  float64\n",
    "# converted                     int64\n",
    "numerical_cols = ['number_of_courses_viewed', 'annual_income', 'interaction_count', 'lead_score']"
   ]
  },
  {
   "cell_type": "markdown",
   "id": "48aa0a54",
   "metadata": {},
   "source": [
    "### Data preparation\n",
    "\n",
    "- Check if the missing values are presented in the features.\n",
    "- If there are missing values:\n",
    "  - For caterogiral features, replace them with 'NA'\n",
    "  - For numerical features, replace with with 0.0\n",
    "\n",
    "Split the data into 3 parts: train/validation/test with 60%/20%/20% distribution. Use `train_test_split` function for that with `random_state=1`"
   ]
  },
  {
   "cell_type": "code",
   "execution_count": 8,
   "id": "375fda75",
   "metadata": {},
   "outputs": [
    {
     "data": {
      "text/plain": [
       "lead_source                 128\n",
       "industry                    134\n",
       "number_of_courses_viewed      0\n",
       "annual_income               181\n",
       "employment_status           100\n",
       "location                     63\n",
       "interaction_count             0\n",
       "lead_score                    0\n",
       "converted                     0\n",
       "dtype: int64"
      ]
     },
     "execution_count": 8,
     "metadata": {},
     "output_type": "execute_result"
    }
   ],
   "source": [
    "# missing values\n",
    "df.isnull().sum()"
   ]
  },
  {
   "cell_type": "code",
   "execution_count": 9,
   "id": "f936fa20",
   "metadata": {},
   "outputs": [],
   "source": [
    "# for caterogiral features, replace them with 'NA'\n",
    "for c in categorical_cols:\n",
    "    df[c] = df[c].fillna('NA')"
   ]
  },
  {
   "cell_type": "code",
   "execution_count": 10,
   "id": "0100322b",
   "metadata": {},
   "outputs": [],
   "source": [
    "# for numerical columns, replace with 0.0\n",
    "for c in numerical_cols:\n",
    "    df[c] = df[c].fillna(0.0)"
   ]
  },
  {
   "cell_type": "code",
   "execution_count": 11,
   "id": "4259b7e0",
   "metadata": {},
   "outputs": [
    {
     "data": {
      "text/plain": [
       "lead_source                 0\n",
       "industry                    0\n",
       "number_of_courses_viewed    0\n",
       "annual_income               0\n",
       "employment_status           0\n",
       "location                    0\n",
       "interaction_count           0\n",
       "lead_score                  0\n",
       "converted                   0\n",
       "dtype: int64"
      ]
     },
     "execution_count": 11,
     "metadata": {},
     "output_type": "execute_result"
    }
   ],
   "source": [
    "df.isnull().sum()"
   ]
  },
  {
   "cell_type": "code",
   "execution_count": 12,
   "id": "d99ecf12",
   "metadata": {},
   "outputs": [
    {
     "data": {
      "text/plain": [
       "(876, 293, 293)"
      ]
     },
     "execution_count": 12,
     "metadata": {},
     "output_type": "execute_result"
    }
   ],
   "source": [
    "# Split the data into 3 parts: train/validation/test with 60%/20%/20% distribution. Use `train_test_split` function for that with `random_state=1`/\n",
    "from sklearn.model_selection import train_test_split\n",
    "df_full_train, df_test = train_test_split(df, test_size=0.2, random_state=1)\n",
    "df_train, df_val = train_test_split(df_full_train, test_size=0.25, random_state=1) # 0.25 x 0.8 = 0.2\n",
    "len(df_train), len(df_val), len(df_test)"
   ]
  },
  {
   "cell_type": "markdown",
   "id": "f0ce1361",
   "metadata": {},
   "source": [
    "\n",
    "### Question 1: ROC AUC feature importance\n",
    "\n",
    "ROC AUC could also be used to evaluate feature importance of numerical variables.\n",
    "\n",
    "Let's do that\n",
    "\n",
    "- For each numerical variable, use it as score (aka prediction) and compute the AUC with the `y` variable as ground truth.\n",
    "- Use the training dataset for that\n",
    "\n",
    "If your AUC is < 0.5, invert this variable by putting \"-\" in front\n",
    "\n",
    "(e.g. `-df_train['balance']`)\n",
    "\n",
    "AUC can go below 0.5 if the variable is negatively correlated with the target variable. You can change the direction of the correlation by negating this variable - then negative correlation becomes positive.\n",
    "\n",
    "Which numerical variable (among the following 4) has the highest AUC?\n",
    "\n",
    "- `lead_score`\n",
    "- `number_of_courses_viewed`\n",
    "- `interaction_count`\n",
    "- `annual_income`\n"
   ]
  },
  {
   "cell_type": "code",
   "execution_count": 13,
   "id": "2cf55205",
   "metadata": {},
   "outputs": [
    {
     "name": "stdout",
     "output_type": "stream",
     "text": [
      "AUC for number_of_courses_viewed: 0.7635680590007088\n",
      "AUC for annual_income: 0.5519578313253012\n",
      "AUC for interaction_count: 0.738270176293409\n",
      "AUC for lead_score: 0.6144993577250176\n"
     ]
    }
   ],
   "source": [
    "# - For each numerical variable, use it as score (aka prediction) and compute the AUC with the `y` variable as ground truth.\n",
    "# - Use the training dataset for that\n",
    "\n",
    "# If your AUC is < 0.5, invert this variable by putting \"-\" in front\n",
    "for c in numerical_cols:\n",
    "    from sklearn.metrics import roc_auc_score\n",
    "    auc = roc_auc_score(df_train['converted'], df_train[c])\n",
    "    if auc < 0.5:\n",
    "        auc = roc_auc_score(df_train['converted'], -df_train[c])\n",
    "    print(f'AUC for {c}: {auc}')"
   ]
  },
  {
   "cell_type": "markdown",
   "id": "b79f7b4f",
   "metadata": {},
   "source": [
    "\n",
    "### Question 2: Training the model\n",
    "\n",
    "Apply one-hot-encoding using `DictVectorizer` and train the logistic regression with these parameters:\n",
    "\n",
    "```python\n",
    "LogisticRegression(solver='liblinear', C=1.0, max_iter=1000)\n",
    "```\n",
    "\n",
    "What's the AUC of this model on the validation dataset? (round to 3 digits)\n",
    "\n",
    "- 0.32\n",
    "- 0.52\n",
    "- 0.72\n",
    "- 0.92"
   ]
  },
  {
   "cell_type": "code",
   "execution_count": 14,
   "id": "08c60f11",
   "metadata": {},
   "outputs": [
    {
     "name": "stdout",
     "output_type": "stream",
     "text": [
      "AUC on validation set: 0.8171316268814112\n"
     ]
    }
   ],
   "source": [
    "# apply one-hot encoding to categorical columns using DictVectorizer\n",
    "from sklearn.feature_extraction import DictVectorizer\n",
    "dv = DictVectorizer(sparse=False)\n",
    "# LogisticRegression(solver='liblinear', C=1.0, max_iter=1000)\n",
    "from sklearn.linear_model import LogisticRegression \n",
    "model = LogisticRegression(solver='liblinear', C=1.0, max_iter=1000)\n",
    "train_dicts = df_train[categorical_cols + numerical_cols].to_dict(orient='records')\n",
    "X_train = dv.fit_transform(train_dicts)\n",
    "y_train = df_train['converted'].values\n",
    "model.fit(X_train, y_train)\n",
    "val_dicts = df_val[categorical_cols + numerical_cols].to_dict(orient='records')\n",
    "X_val = dv.transform(val_dicts)\n",
    "y_val = df_val['converted'].values\n",
    "y_pred = model.predict_proba(X_val)[:, 1]\n",
    "auc = roc_auc_score(y_val, y_pred)\n",
    "print(f'AUC on validation set: {auc}')\n"
   ]
  },
  {
   "cell_type": "markdown",
   "id": "46483ad1",
   "metadata": {},
   "source": [
    "### Question 3: Precision and Recall\n",
    "\n",
    "Now let's compute precision and recall for our model.\n",
    "\n",
    "- Evaluate the model on all thresholds from 0.0 to 1.0 with step 0.01\n",
    "- For each threshold, compute precision and recall\n",
    "- Plot them\n",
    "\n",
    "At which threshold precision and recall curves intersect?\n",
    "\n",
    "- 0.145\n",
    "- 0.345\n",
    "- 0.545\n",
    "- 0.745"
   ]
  },
  {
   "cell_type": "code",
   "execution_count": 16,
   "id": "8f96f483",
   "metadata": {},
   "outputs": [
    {
     "name": "stdout",
     "output_type": "stream",
     "text": [
      "Precision: 0.6693877551020408\n",
      "Recall: 0.9590643274853801\n"
     ]
    },
    {
     "data": {
      "image/png": "[encoded data removed]",
      "text/plain": [
       "<Figure size 640x480 with 1 Axes>"
      ]
     },
     "metadata": {},
     "output_type": "display_data"
    },
    {
     "name": "stdout",
     "output_type": "stream",
     "text": [
      "Best threshold: 0.5535908611718586\n"
     ]
    }
   ],
   "source": [
    "# compute precision and recall\n",
    "from sklearn.metrics import precision_score, recall_score\n",
    "y_pred_binary = (y_pred >= 0.5).astype(int)\n",
    "precision = precision_score(y_val, y_pred_binary)   \n",
    "recall = recall_score(y_val, y_pred_binary)\n",
    "print(f'Precision: {precision}')\n",
    "print(f'Recall: {recall}')  \n",
    "# plot precision-recall curve\n",
    "from sklearn.metrics import precision_recall_curve\n",
    "precisions, recalls, thresholds = precision_recall_curve(y_val, y_pred)\n",
    "plt.plot(recalls, precisions)\n",
    "plt.xlabel('Recall')\n",
    "plt.ylabel('Precision')\n",
    "plt.title('Precision-Recall Curve')\n",
    "plt.show()\n",
    "# at which threshold do precision and recall curves intersect?\n",
    "f1_scores = 2 * (precisions * recalls) / (precisions + recalls)\n",
    "best_threshold_index = np.argmax(f1_scores)\n",
    "best_threshold = thresholds[best_threshold_index]\n",
    "print(f'Best threshold: {best_threshold}')"
   ]
  },
  {
   "cell_type": "markdown",
   "id": "1feec854",
   "metadata": {},
   "source": [
    "### Question 4: F1 score\n",
    "\n",
    "Precision and recall are conflicting - when one grows, the other goes down. That's why they are often combined into the F1 score - a metrics that takes into account both\n",
    "\n",
    "This is the formula for computing F1:\n",
    "\n",
    "$$F_1 = 2 \\cdot \\cfrac{P \\cdot R}{P + R}$$\n",
    "\n",
    "Where $P$ is precision and $R$ is recall.\n",
    "\n",
    "Let's compute F1 for all thresholds from 0.0 to 1.0 with increment 0.01\n",
    "\n",
    "At which threshold F1 is maximal?\n",
    "\n",
    "- 0.14\n",
    "- 0.34\n",
    "- 0.54\n",
    "- 0.74"
   ]
  },
  {
   "cell_type": "code",
   "execution_count": 18,
   "id": "ca40b6e5",
   "metadata": {},
   "outputs": [
    {
     "name": "stdout",
     "output_type": "stream",
     "text": [
      "Best F1 threshold: 0.5700000000000001\n",
      "Best F1 score: 0.8124999999999999\n"
     ]
    }
   ],
   "source": [
    "# compute f1 for all thresholds from 0.0 to 1.0 with step 0.01\n",
    "# be careful of division by zero\n",
    "f1_scores = []\n",
    "thresholds_list = np.arange(0.0, 1.01, 0.01)\n",
    "for t in thresholds_list:\n",
    "    y_pred_binary = (y_pred >= t).astype(int)\n",
    "    precision = precision_score(y_val, y_pred_binary, zero_division=0)\n",
    "    recall = recall_score(y_val, y_pred_binary, zero_division=0)\n",
    "    if precision + recall == 0:\n",
    "        f1 = 0.0\n",
    "    else:\n",
    "        f1 = 2 * (precision * recall) / (precision + recall)\n",
    "    f1_scores.append(f1)\n",
    "best_f1_index = np.argmax(f1_scores)\n",
    "best_f1_threshold = thresholds_list[best_f1_index]\n",
    "print(f'Best F1 threshold: {best_f1_threshold}')\n",
    "print(f'Best F1 score: {f1_scores[best_f1_index]}')\n"
   ]
  },
  {
   "cell_type": "markdown",
   "id": "cad46c29",
   "metadata": {},
   "source": [
    "### Question 5: 5-Fold CV\n",
    "\n",
    "Use the `KFold` class from Scikit-Learn to evaluate our model on 5 different folds:\n",
    "\n",
    "```\n",
    "KFold(n_splits=5, shuffle=True, random_state=1)\n",
    "```\n",
    "\n",
    "- Iterate over different folds of `df_full_train`\n",
    "- Split the data into train and validation\n",
    "- Train the model on train with these parameters: `LogisticRegression(solver='liblinear', C=1.0, max_iter=1000)`\n",
    "- Use AUC to evaluate the model on validation\n",
    "\n",
    "How large is standard deviation of the scores across different folds?\n",
    "\n",
    "- 0.0001\n",
    "- 0.006\n",
    "- 0.06\n",
    "- 0.36"
   ]
  },
  {
   "cell_type": "code",
   "execution_count": 19,
   "id": "77255337",
   "metadata": {},
   "outputs": [
    {
     "name": "stdout",
     "output_type": "stream",
     "text": [
      "Fold 1, AUC: 0.8060745924216483\n",
      "Fold 2, AUC: 0.8713738368910783\n",
      "Fold 3, AUC: 0.7754320118852139\n",
      "Fold 4, AUC: 0.8018368617683685\n",
      "Fold 5, AUC: 0.8558272713202291\n"
     ]
    }
   ],
   "source": [
    "# use KFold from sklearn to split the data into 5 folds, random_state=1, shuffle=True\n",
    "from sklearn.model_selection import KFold\n",
    "kf = KFold(n_splits=5, shuffle=True, random_state=1)\n",
    "for fold, (train_index, val_index) in enumerate(kf.split(df_full_train)):\n",
    "    df_train_kf = df_full_train.iloc[train_index]\n",
    "    df_val_kf = df_full_train.iloc[val_index]\n",
    "    \n",
    "    train_dicts = df_train_kf[categorical_cols + numerical_cols].to_dict(orient='records')\n",
    "    X_train_kf = dv.fit_transform(train_dicts)\n",
    "    y_train_kf = df_train_kf['converted'].values\n",
    "    model.fit(X_train_kf, y_train_kf)\n",
    "    \n",
    "    val_dicts = df_val_kf[categorical_cols + numerical_cols].to_dict(orient='records')\n",
    "    X_val_kf = dv.transform(val_dicts)\n",
    "    y_val_kf = df_val_kf['converted'].values\n",
    "    y_pred_kf = model.predict_proba(X_val_kf)[:, 1]\n",
    "    auc = roc_auc_score(y_val_kf, y_pred_kf)\n",
    "    print(f'Fold {fold + 1}, AUC: {auc}')"
   ]
  },
  {
   "cell_type": "code",
   "execution_count": 21,
   "id": "44a10864",
   "metadata": {},
   "outputs": [
    {
     "name": "stdout",
     "output_type": "stream",
     "text": [
      "Fold 1, AUC: 0.8060745924216483\n",
      "Fold 2, AUC: 0.8713738368910783\n",
      "Fold 3, AUC: 0.7754320118852139\n",
      "Fold 4, AUC: 0.8018368617683685\n",
      "Fold 5, AUC: 0.8558272713202291\n",
      "Standard deviation of AUC scores across folds: 0.03580711942905165\n"
     ]
    }
   ],
   "source": [
    "# what is the standard deviation of the AUC scores across the folds?\n",
    "\n",
    "auc_scores = [] \n",
    "for fold, (train_index, val_index) in enumerate(kf.split(df_full_train)):\n",
    "    df_train_kf = df_full_train.iloc[train_index]\n",
    "    df_val_kf = df_full_train.iloc[val_index]\n",
    "    \n",
    "    train_dicts = df_train_kf[categorical_cols + numerical_cols].to_dict(orient='records')\n",
    "    X_train_kf = dv.fit_transform(train_dicts)\n",
    "    y_train_kf = df_train_kf['converted'].values\n",
    "    model.fit(X_train_kf, y_train_kf)\n",
    "    \n",
    "    val_dicts = df_val_kf[categorical_cols + numerical_cols].to_dict(orient='records')\n",
    "    X_val_kf = dv.transform(val_dicts)\n",
    "    y_val_kf = df_val_kf['converted'].values\n",
    "    y_pred_kf = model.predict_proba(X_val_kf)[:, 1]\n",
    "    auc = roc_auc_score(y_val_kf, y_pred_kf)\n",
    "    auc_scores.append(auc)\n",
    "    print(f'Fold {fold + 1}, AUC: {auc}')\n",
    "    # calculate standard deviation\n",
    "std_auc = np.std(auc_scores)\n",
    "print(f'Standard deviation of AUC scores across folds: {std_auc}')"
   ]
  },
  {
   "cell_type": "markdown",
   "id": "27cce0eb",
   "metadata": {},
   "source": [
    "### Question 6: Hyperparameter Tuning\n",
    "\n",
    "Now let's use 5-Fold cross-validation to find the best parameter `C`\n",
    "\n",
    "- Iterate over the following `C` values: `[0.000001, 0.001, 1]`\n",
    "- Initialize `KFold` with the same parameters as previously\n",
    "- Use these parameters for the model: `LogisticRegression(solver='liblinear', C=C, max_iter=1000)`\n",
    "- Compute the mean score as well as the std (round the mean and std to 3 decimal digits)\n",
    "\n",
    "Which `C` leads to the best mean score?\n",
    "\n",
    "- 0.000001\n",
    "- 0.001\n",
    "- 1\n",
    "\n",
    "If you have ties, select the score with the lowest std. If you still have ties, select the smallest `C`."
   ]
  },
  {
   "cell_type": "code",
   "execution_count": 22,
   "id": "aea03e72",
   "metadata": {},
   "outputs": [
    {
     "name": "stdout",
     "output_type": "stream",
     "text": [
      "C: 1e-06, Mean AUC: 0.560207852870275\n",
      "C: 0.001, Mean AUC: 0.8668780317675395\n",
      "C: 1, Mean AUC: 0.8221089148573075\n",
      "Best C: 0.001, Best Mean AUC: 0.8668780317675395\n"
     ]
    }
   ],
   "source": [
    "# use 5-fold cross-validation to find the best value of C from the list [0.000001, 0.001, 1]\n",
    "# KFold with same parameters as before\n",
    "from sklearn.model_selection import KFold\n",
    "kf = KFold(n_splits=5, shuffle=True, random_state=1)\n",
    "C_values = [0.000001, 0.001, 1] \n",
    "best_C = None\n",
    "best_auc = 0.0\n",
    "for C in C_values:\n",
    "    auc_scores = []\n",
    "    for fold, (train_index, val_index) in enumerate(kf.split(df_full_train)):\n",
    "        df_train_kf = df_full_train.iloc[train_index]\n",
    "        df_val_kf = df_full_train.iloc[val_index]\n",
    "        \n",
    "        train_dicts = df_train_kf[categorical_cols + numerical_cols].to_dict(orient='records')\n",
    "        X_train_kf = dv.fit_transform(train_dicts)\n",
    "        y_train_kf = df_train_kf['converted'].values\n",
    "        model = LogisticRegression(solver='liblinear', C=C, max_iter=1000)\n",
    "        model.fit(X_train_kf, y_train_kf)\n",
    "        \n",
    "        val_dicts = df_val_kf[categorical_cols + numerical_cols].to_dict(orient='records')\n",
    "        X_val_kf = dv.transform(val_dicts)\n",
    "        y_val_kf = df_val_kf['converted'].values\n",
    "        y_pred_kf = model.predict_proba(X_val_kf)[:, 1]\n",
    "        auc = roc_auc_score(y_val_kf, y_pred_kf)\n",
    "        auc_scores.append(auc)\n",
    "    mean_auc = np.mean(auc_scores)\n",
    "    print(f'C: {C}, Mean AUC: {mean_auc}')\n",
    "    if mean_auc > best_auc:\n",
    "        best_auc = mean_auc\n",
    "        best_C = C\n",
    "print(f'Best C: {best_C}, Best Mean AUC: {best_auc}')   \n"
   ]
  },
  {
   "cell_type": "code",
   "execution_count": null,
   "id": "36a99bb5",
   "metadata": {},
   "outputs": [],
   "source": []
  }
 ],
 "metadata": {
  "kernelspec": {
   "display_name": ".venv",
   "language": "python",
   "name": "python3"
  },
  "language_info": {
   "codemirror_mode": {
    "name": "ipython",
    "version": 3
   },
   "file_extension": ".py",
   "mimetype": "text/x-python",
   "name": "python",
   "nbconvert_exporter": "python",
   "pygments_lexer": "ipython3",
   "version": "3.10.0"
  }
 },
 "nbformat": 4,
 "nbformat_minor": 5
}
