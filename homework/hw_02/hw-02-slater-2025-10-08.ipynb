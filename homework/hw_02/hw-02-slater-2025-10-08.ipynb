{
 "cells": [
  {
   "cell_type": "code",
   "execution_count": 11,
   "id": "4157fc1b",
   "metadata": {},
   "outputs": [],
   "source": [
    "import pandas as pd\n",
    "import numpy as np\n",
    "\n",
    "# Load the data\n",
    "url = \"https://raw.githubusercontent.com/alexeygrigorev/datasets/master/car_fuel_efficiency.csv\"\n",
    "df = pd.read_csv(url)\n",
    "\n",
    "# Use only the specified columns\n",
    "df_filtered = df[['engine_displacement', 'horsepower', 'vehicle_weight', 'model_year', 'fuel_efficiency_mpg']].copy()\n",
    "\n",
    "# Apply log transformation to the target variable (fuel_efficiency_mpg)\n",
    "df_filtered['fuel_efficiency_mpg'] = np.log1p(df_filtered['fuel_efficiency_mpg'])"
   ]
  },
  {
   "cell_type": "code",
   "execution_count": 12,
   "id": "2766142d",
   "metadata": {},
   "outputs": [
    {
     "data": {
      "text/plain": [
       "engine_displacement      0\n",
       "horsepower             708\n",
       "vehicle_weight           0\n",
       "model_year               0\n",
       "fuel_efficiency_mpg      0\n",
       "dtype: int64"
      ]
     },
     "execution_count": 12,
     "metadata": {},
     "output_type": "execute_result"
    }
   ],
   "source": [
    "df_filtered.isnull().sum()"
   ]
  },
  {
   "cell_type": "code",
   "execution_count": 13,
   "id": "158e1097",
   "metadata": {},
   "outputs": [
    {
     "name": "stdout",
     "output_type": "stream",
     "text": [
      "Median Horsepower: 149.0\n"
     ]
    }
   ],
   "source": [
    "median_horsepower = df_filtered['horsepower'].median()\n",
    "print(f\"Median Horsepower: {median_horsepower}\")"
   ]
  },
  {
   "cell_type": "code",
   "execution_count": 14,
   "id": "5e634f12",
   "metadata": {},
   "outputs": [],
   "source": [
    "# helper functions\n",
    "def train_linear_regression(X, y):\n",
    "    ones = np.ones(X.shape[0])\n",
    "    X = np.column_stack([ones, X])\n",
    "    XTX = X.T @ X\n",
    "    XTX_inv = np.linalg.inv(XTX)\n",
    "    w = XTX_inv @ X.T @ y\n",
    "    return w[0], w[1:]\n",
    "\n",
    "def train_linear_regression_reg(X, y, r=0.0):\n",
    "    ones = np.ones(X.shape[0])\n",
    "    X = np.column_stack([ones, X])\n",
    "    XTX = X.T @ X\n",
    "    reg = r * np.eye(XTX.shape[0])\n",
    "    XTX_reg = XTX + reg\n",
    "    XTX_inv = np.linalg.inv(XTX_reg)\n",
    "    w = XTX_inv @ X.T @ y\n",
    "    return w[0], w[1:]\n",
    "\n",
    "def rmse(y, y_pred):\n",
    "    error = y - y_pred\n",
    "    mse = (error ** 2).mean()\n",
    "    return np.sqrt(mse)\n",
    "\n",
    "# seed = 42\n",
    "def split_data(df, seed):\n",
    "    n = len(df)\n",
    "    n_val = int(0.2 * n)\n",
    "    n_test = int(0.2 * n)\n",
    "    n_train = n - n_val - n_test\n",
    "\n",
    "    np.random.seed(seed)\n",
    "    idx = np.arange(n)\n",
    "    np.random.shuffle(idx)\n",
    "\n",
    "    df_shuffled = df.iloc[idx]\n",
    "    df_train = df_shuffled.iloc[:n_train].copy()\n",
    "    df_val = df_shuffled.iloc[n_train:n_train + n_val].copy()\n",
    "    df_test = df_shuffled.iloc[n_train + n_val:].copy()\n",
    "    \n",
    "    y_train = df_train['fuel_efficiency_mpg'].values\n",
    "    y_val = df_val['fuel_efficiency_mpg'].values\n",
    "    y_test = df_test['fuel_efficiency_mpg'].values\n",
    "    \n",
    "    return df_train, df_val, df_test, y_train, y_val, y_test\n",
    "\n",
    "# Perform initial split for Q3 and Q4\n",
    "df_train, df_val, _, y_train, y_val, _ = split_data(df_filtered, seed=42)\n",
    "features = ['engine_displacement', 'horsepower', 'vehicle_weight', 'model_year']"
   ]
  },
  {
   "cell_type": "code",
   "execution_count": 15,
   "id": "6f194cfc",
   "metadata": {},
   "outputs": [
    {
     "name": "stdout",
     "output_type": "stream",
     "text": [
      "RMSE with 0 fill: 0.04\n",
      "RMSE with mean fill: 0.04\n"
     ]
    }
   ],
   "source": [
    "# fill with 0 \n",
    "X_train_0 = df_train[features].fillna(0).values\n",
    "X_val_0 = df_val[features].fillna(0).values\n",
    "\n",
    "w0_0, w_0 = train_linear_regression(X_train_0, y_train)\n",
    "y_pred_0 = w0_0 + X_val_0 @ w_0\n",
    "rmse_0 = round(rmse(y_val, y_pred_0), 2)\n",
    "print(f\"RMSE with 0 fill: {rmse_0}\")\n",
    "\n",
    "# fill with mean\n",
    "mean_hp = df_train['horsepower'].mean()\n",
    "\n",
    "X_train_mean = df_train[features].fillna(mean_hp).values\n",
    "X_val_mean = df_val[features].fillna(mean_hp).values\n",
    "\n",
    "w0_mean, w_mean = train_linear_regression(X_train_mean, y_train)\n",
    "y_pred_mean = w0_mean + X_val_mean @ w_mean\n",
    "rmse_mean = round(rmse(y_val, y_pred_mean), 2)\n",
    "print(f\"RMSE with mean fill: {rmse_mean}\")"
   ]
  },
  {
   "cell_type": "code",
   "execution_count": 16,
   "id": "c0535ee4",
   "metadata": {},
   "outputs": [
    {
     "name": "stdout",
     "output_type": "stream",
     "text": [
      "\n",
      "Best r: 100\n"
     ]
    }
   ],
   "source": [
    "r_values = [0, 0.01, 0.1, 1, 5, 10, 100]\n",
    "best_rmse = float('inf')\n",
    "best_r = None\n",
    "\n",
    "# testing the regularization values\n",
    "for r in r_values:\n",
    "    w0, w = train_linear_regression_reg(X_train_0, y_train, r=r)\n",
    "    \n",
    "    y_pred = w0 + X_val_0 @ w\n",
    "    score = rmse(y_val, y_pred)\n",
    "    \n",
    "    rounded_score = round(score, 2)\n",
    "    # print(f\"r={r:5} | RMSE: {rounded_score}\")\n",
    "    \n",
    "    if rounded_score <= round(best_rmse, 2):\n",
    "        best_rmse = score\n",
    "        best_r = r\n",
    "\n",
    "print(f\"\\nBest r: {best_r}\")"
   ]
  },
  {
   "cell_type": "code",
   "execution_count": 17,
   "id": "94bb93bf",
   "metadata": {},
   "outputs": [
    {
     "name": "stdout",
     "output_type": "stream",
     "text": [
      "Standard Deviation of RMSE scores: 0.001\n"
     ]
    }
   ],
   "source": [
    "seeds = [0, 1, 2, 3, 4, 5, 6, 7, 8, 9]\n",
    "rmse_scores = []\n",
    "\n",
    "for seed in seeds:\n",
    "    df_train_s, df_val_s, _, y_train_s, y_val_s, _ = split_data(df_filtered, seed=seed)\n",
    "    \n",
    "    # Fill NAs with 0\n",
    "    X_train_s = df_train_s[features].fillna(0).values\n",
    "    X_val_s = df_val_s[features].fillna(0).values\n",
    "    \n",
    "    # Train (No regularization)\n",
    "    w0, w = train_linear_regression(X_train_s, y_train_s)\n",
    "    \n",
    "    # Evaluate\n",
    "    y_pred = w0 + X_val_s @ w\n",
    "    score = rmse(y_val_s, y_pred)\n",
    "    \n",
    "    rmse_scores.append(score)\n",
    "\n",
    "# Calculate standard deviation\n",
    "std_rmse = np.std(rmse_scores)\n",
    "print(f\"Standard Deviation of RMSE scores: {round(std_rmse, 3)}\")"
   ]
  },
  {
   "cell_type": "code",
   "execution_count": 18,
   "id": "0d6d3572",
   "metadata": {},
   "outputs": [
    {
     "name": "stdout",
     "output_type": "stream",
     "text": [
      "RMSE on Test Set (r=0.001, seed=9): 0.039\n"
     ]
    }
   ],
   "source": [
    "# Split Data using seed 9\n",
    "df_train_9, df_val_9, df_test_9, y_train_9, y_val_9, y_test_9 = split_data(df_filtered, seed=9)\n",
    "\n",
    "# \n",
    "df_full_train = pd.concat([df_train_9, df_val_9])\n",
    "y_full_train = np.concatenate([y_train_9, y_val_9])\n",
    "\n",
    "# \n",
    "X_full_train = df_full_train[features].fillna(0).values\n",
    "X_test = df_test_9[features].fillna(0).values\n",
    "\n",
    "# train \n",
    "r_final = 0.001\n",
    "w0, w = train_linear_regression_reg(X_full_train, y_full_train, r=r_final)\n",
    "\n",
    "# eval \n",
    "y_pred_test = w0 + X_test @ w\n",
    "rmse_test = rmse(y_test_9, y_pred_test)\n",
    "\n",
    "\n",
    "print(f\"RMSE on Test Set (r=0.001, seed=9): {round(rmse_test, 3)}\")"
   ]
  },
  {
   "cell_type": "code",
   "execution_count": null,
   "id": "0841ca7f",
   "metadata": {},
   "outputs": [],
   "source": []
  },
  {
   "cell_type": "code",
   "execution_count": 19,
   "id": "a0a8eaf4",
   "metadata": {},
   "outputs": [
    {
     "name": "stdout",
     "output_type": "stream",
     "text": [
      "Final RMSE (Original Scale): 0.61\n"
     ]
    }
   ],
   "source": [
    "\n",
    "y_test_original = np.expm1(y_test_9)\n",
    "\n",
    "\n",
    "y_pred_log = w0 + X_test @ w\n",
    "y_pred_original = np.expm1(y_pred_log)\n",
    "\n",
    "rmse_test_final = rmse(y_test_original, y_pred_original)\n",
    "\n",
    "print(f\"Final RMSE (Original Scale): {round(rmse_test_final, 2)}\")"
   ]
  }
 ],
 "metadata": {
  "kernelspec": {
   "display_name": ".venv",
   "language": "python",
   "name": "python3"
  },
  "language_info": {
   "codemirror_mode": {
    "name": "ipython",
    "version": 3
   },
   "file_extension": ".py",
   "mimetype": "text/x-python",
   "name": "python",
   "nbconvert_exporter": "python",
   "pygments_lexer": "ipython3",
   "version": "3.10.0"
  }
 },
 "nbformat": 4,
 "nbformat_minor": 5
}
