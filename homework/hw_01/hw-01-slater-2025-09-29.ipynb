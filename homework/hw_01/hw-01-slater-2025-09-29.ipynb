{
 "cells": [
  {
   "cell_type": "code",
   "execution_count": 47,
   "id": "e502385f",
   "metadata": {},
   "outputs": [],
   "source": [
    "import pandas as pd\n",
    "import numpy as np "
   ]
  },
  {
   "cell_type": "code",
   "execution_count": 23,
   "id": "a4854594",
   "metadata": {},
   "outputs": [
    {
     "data": {
      "text/plain": [
       "'2.3.1'"
      ]
     },
     "execution_count": 23,
     "metadata": {},
     "output_type": "execute_result"
    }
   ],
   "source": [
    "pd.__version__"
   ]
  },
  {
   "cell_type": "markdown",
   "id": "4cbc1f31",
   "metadata": {},
   "source": [
    "### Question 1 \n",
    "#### Pandas version: <u>2.3.1</u>"
   ]
  },
  {
   "cell_type": "code",
   "execution_count": 24,
   "id": "b13e0252",
   "metadata": {},
   "outputs": [],
   "source": [
    "df = pd.read_csv(\"car_fuel_efficiency.csv\")"
   ]
  },
  {
   "cell_type": "code",
   "execution_count": 25,
   "id": "f1b8ca2b",
   "metadata": {},
   "outputs": [
    {
     "data": {
      "text/plain": [
       "(9704, 11)"
      ]
     },
     "execution_count": 25,
     "metadata": {},
     "output_type": "execute_result"
    }
   ],
   "source": [
    "df.shape"
   ]
  },
  {
   "cell_type": "markdown",
   "id": "62362997",
   "metadata": {},
   "source": []
  },
  {
   "cell_type": "markdown",
   "id": "f333deff",
   "metadata": {},
   "source": [
    "### Question 2\n",
    "#### Records Count: <u>9704</u>\n"
   ]
  },
  {
   "cell_type": "code",
   "execution_count": 26,
   "id": "e4877cca",
   "metadata": {},
   "outputs": [
    {
     "data": {
      "text/plain": [
       "Index(['engine_displacement', 'num_cylinders', 'horsepower', 'vehicle_weight',\n",
       "       'acceleration', 'model_year', 'origin', 'fuel_type', 'drivetrain',\n",
       "       'num_doors', 'fuel_efficiency_mpg'],\n",
       "      dtype='object')"
      ]
     },
     "execution_count": 26,
     "metadata": {},
     "output_type": "execute_result"
    }
   ],
   "source": [
    "df.columns"
   ]
  },
  {
   "cell_type": "code",
   "execution_count": 27,
   "id": "06b639b3",
   "metadata": {},
   "outputs": [
    {
     "data": {
      "text/plain": [
       "array(['Gasoline', 'Diesel'], dtype=object)"
      ]
     },
     "execution_count": 27,
     "metadata": {},
     "output_type": "execute_result"
    }
   ],
   "source": [
    "df.fuel_type.unique()"
   ]
  },
  {
   "cell_type": "code",
   "execution_count": 28,
   "id": "eb969e59",
   "metadata": {},
   "outputs": [
    {
     "data": {
      "text/plain": [
       "2"
      ]
     },
     "execution_count": 28,
     "metadata": {},
     "output_type": "execute_result"
    }
   ],
   "source": [
    "df['fuel_type'].nunique()"
   ]
  },
  {
   "cell_type": "markdown",
   "id": "cc445151",
   "metadata": {},
   "source": []
  },
  {
   "cell_type": "markdown",
   "id": "b037f208",
   "metadata": {},
   "source": [
    "### Question 3\n",
    "#### Fuel Types: <u>2</u>"
   ]
  },
  {
   "cell_type": "code",
   "execution_count": 29,
   "id": "56e79d65",
   "metadata": {},
   "outputs": [
    {
     "data": {
      "text/plain": [
       "engine_displacement      0\n",
       "num_cylinders          482\n",
       "horsepower             708\n",
       "vehicle_weight           0\n",
       "acceleration           930\n",
       "model_year               0\n",
       "origin                   0\n",
       "fuel_type                0\n",
       "drivetrain               0\n",
       "num_doors              502\n",
       "fuel_efficiency_mpg      0\n",
       "dtype: int64"
      ]
     },
     "execution_count": 29,
     "metadata": {},
     "output_type": "execute_result"
    }
   ],
   "source": [
    "df.isnull().sum()"
   ]
  },
  {
   "cell_type": "markdown",
   "id": "b972a678",
   "metadata": {},
   "source": [
    "### Question 4\n",
    "#### Missing values (num of columns)\n",
    "##### 4 columns have missing values:\n",
    "<ul>\n",
    "<li>num_cylinders</li>\n",
    "<li>horsepower</li>\n",
    "<li>acceleration</li>\n",
    "<li>num_doors</li>\n",
    "</ul>"
   ]
  },
  {
   "cell_type": "code",
   "execution_count": 30,
   "id": "4b60a38e",
   "metadata": {},
   "outputs": [
    {
     "data": {
      "text/plain": [
       "np.float64(23.76)"
      ]
     },
     "execution_count": 30,
     "metadata": {},
     "output_type": "execute_result"
    }
   ],
   "source": [
    "df[df['origin']=='Asia']['fuel_efficiency_mpg'].max().round(2)"
   ]
  },
  {
   "cell_type": "markdown",
   "id": "5a805ed6",
   "metadata": {},
   "source": [
    "### Question 5\n",
    "#### Max fuel efficiency of Asian cars (mpg): <u>23.76 mpg</u>"
   ]
  },
  {
   "cell_type": "markdown",
   "id": "0b297535",
   "metadata": {},
   "source": []
  },
  {
   "cell_type": "markdown",
   "id": "8a78ec76",
   "metadata": {},
   "source": [
    "### Q6. Median value of horsepower steps\n",
    "<ol>\n",
    "<li>Find the median value of horsepower column in the dataset.</li>\n",
    "<li>Next, calculate the most frequent value of the same horsepower column.</li>\n",
    "<li>Use fillna method to fill the missing values in horsepower column with the most frequent value from the previous step.</li>\n",
    "<li>Now, calculate the median value of horsepower once again.</li>"
   ]
  },
  {
   "cell_type": "code",
   "execution_count": 31,
   "id": "8c700f62",
   "metadata": {},
   "outputs": [
    {
     "data": {
      "text/plain": [
       "np.float64(149.0)"
      ]
     },
     "execution_count": 31,
     "metadata": {},
     "output_type": "execute_result"
    }
   ],
   "source": [
    "#1 Find median \n",
    "df['horsepower'].median()"
   ]
  },
  {
   "cell_type": "code",
   "execution_count": 33,
   "id": "99924ecd",
   "metadata": {},
   "outputs": [
    {
     "data": {
      "text/plain": [
       "np.float64(152.0)"
      ]
     },
     "execution_count": 33,
     "metadata": {},
     "output_type": "execute_result"
    }
   ],
   "source": [
    "#2 find mode\n",
    "# df['horsepower'].mode()[0]\n",
    "mode_value = df['horsepower'].mode()[0]\n",
    "mode_value"
   ]
  },
  {
   "cell_type": "code",
   "execution_count": 34,
   "id": "e2054528",
   "metadata": {},
   "outputs": [
    {
     "data": {
      "text/plain": [
       "np.float64(152.0)"
      ]
     },
     "execution_count": 34,
     "metadata": {},
     "output_type": "execute_result"
    }
   ],
   "source": [
    "#3 fillna with mode, #4 get new median\n",
    "df['horsepower'] = df['horsepower'].fillna(mode_value)\n",
    "df['horsepower'].median()"
   ]
  },
  {
   "cell_type": "markdown",
   "id": "443918a3",
   "metadata": {},
   "source": [
    "### Question 6: Did median change? \n",
    "#### Yes, increased (149 -> 152)"
   ]
  },
  {
   "cell_type": "markdown",
   "id": "612a5144",
   "metadata": {},
   "source": []
  },
  {
   "cell_type": "markdown",
   "id": "b8fcae00",
   "metadata": {},
   "source": [
    "### Q7. Sum of weights\n",
    "<ol>\n",
    "<li>Select all the cars from Asia\n",
    "<li>Select only columns vehicle_weight and model_year\n",
    "<li>Select the first 7 values\n",
    "<li>Get the underlying NumPy array. Let's call it X.\n",
    "<li>Compute matrix-matrix multiplication between the transpose of X and X. To get the transpose, use X.T. <li>Let's call the result XTX.\n",
    "<li>Invert XTX.\n",
    "<li>Create an array y with values [1100, 1300, 800, 900, 1000, 1100, 1200].\n",
    "<li>Multiply the inverse of XTX with the transpose of X, and then multiply the result by y. Call the result w.\n",
    "<li>What's the sum of all the elements of the result?"
   ]
  },
  {
   "cell_type": "code",
   "execution_count": 37,
   "id": "c9dc7138",
   "metadata": {},
   "outputs": [],
   "source": [
    "#1 select all cars of Asia \n",
    "df_asian = df[df['origin']=='Asia']"
   ]
  },
  {
   "cell_type": "code",
   "execution_count": 38,
   "id": "0e01c71c",
   "metadata": {},
   "outputs": [],
   "source": [
    "#2 Select only columns vehicle_weight and model_year\n",
    "df_asian_sub = df_asian[['vehicle_weight', 'model_year']]"
   ]
  },
  {
   "cell_type": "code",
   "execution_count": null,
   "id": "e650814f",
   "metadata": {},
   "outputs": [],
   "source": [
    "# 3 get first 7 rows\n",
    "df_asian_sub_seven = df_asian_sub.iloc[0:7]"
   ]
  },
  {
   "cell_type": "code",
   "execution_count": 42,
   "id": "64d28411",
   "metadata": {},
   "outputs": [
    {
     "data": {
      "text/html": [
       "<div>\n",
       "<style scoped>\n",
       "    .dataframe tbody tr th:only-of-type {\n",
       "        vertical-align: middle;\n",
       "    }\n",
       "\n",
       "    .dataframe tbody tr th {\n",
       "        vertical-align: top;\n",
       "    }\n",
       "\n",
       "    .dataframe thead th {\n",
       "        text-align: right;\n",
       "    }\n",
       "</style>\n",
       "<table border=\"1\" class=\"dataframe\">\n",
       "  <thead>\n",
       "    <tr style=\"text-align: right;\">\n",
       "      <th></th>\n",
       "      <th>vehicle_weight</th>\n",
       "      <th>model_year</th>\n",
       "    </tr>\n",
       "  </thead>\n",
       "  <tbody>\n",
       "    <tr>\n",
       "      <th>8</th>\n",
       "      <td>2714.219310</td>\n",
       "      <td>2016</td>\n",
       "    </tr>\n",
       "    <tr>\n",
       "      <th>12</th>\n",
       "      <td>2783.868974</td>\n",
       "      <td>2010</td>\n",
       "    </tr>\n",
       "    <tr>\n",
       "      <th>14</th>\n",
       "      <td>3582.687368</td>\n",
       "      <td>2007</td>\n",
       "    </tr>\n",
       "    <tr>\n",
       "      <th>20</th>\n",
       "      <td>2231.808142</td>\n",
       "      <td>2011</td>\n",
       "    </tr>\n",
       "    <tr>\n",
       "      <th>21</th>\n",
       "      <td>2659.431451</td>\n",
       "      <td>2016</td>\n",
       "    </tr>\n",
       "    <tr>\n",
       "      <th>34</th>\n",
       "      <td>2844.227534</td>\n",
       "      <td>2014</td>\n",
       "    </tr>\n",
       "    <tr>\n",
       "      <th>38</th>\n",
       "      <td>3761.994038</td>\n",
       "      <td>2019</td>\n",
       "    </tr>\n",
       "  </tbody>\n",
       "</table>\n",
       "</div>"
      ],
      "text/plain": [
       "    vehicle_weight  model_year\n",
       "8      2714.219310        2016\n",
       "12     2783.868974        2010\n",
       "14     3582.687368        2007\n",
       "20     2231.808142        2011\n",
       "21     2659.431451        2016\n",
       "34     2844.227534        2014\n",
       "38     3761.994038        2019"
      ]
     },
     "execution_count": 42,
     "metadata": {},
     "output_type": "execute_result"
    }
   ],
   "source": [
    "df_asian_sub_seven"
   ]
  },
  {
   "cell_type": "code",
   "execution_count": 43,
   "id": "709d98ce",
   "metadata": {},
   "outputs": [],
   "source": [
    "# 4 get numpy array \n",
    "X = df_asian_sub_seven.to_numpy()"
   ]
  },
  {
   "cell_type": "code",
   "execution_count": 44,
   "id": "88783e08",
   "metadata": {},
   "outputs": [
    {
     "data": {
      "text/plain": [
       "numpy.ndarray"
      ]
     },
     "execution_count": 44,
     "metadata": {},
     "output_type": "execute_result"
    }
   ],
   "source": [
    "type(X)"
   ]
  },
  {
   "cell_type": "code",
   "execution_count": 50,
   "id": "6cf644ca",
   "metadata": {},
   "outputs": [
    {
     "data": {
      "text/plain": [
       "array([[62248334.33150762, 41431216.5073268 ],\n",
       "       [41431216.5073268 , 28373339.        ]])"
      ]
     },
     "execution_count": 50,
     "metadata": {},
     "output_type": "execute_result"
    }
   ],
   "source": [
    "# 5 Compute matrix-matrix multiplication between the transpose of X and X. To get the transpose, use X.T. Let's call the result XTX\n",
    "XTX = X.T.dot(X)\n",
    "XTX"
   ]
  },
  {
   "cell_type": "code",
   "execution_count": 51,
   "id": "5e754fe5",
   "metadata": {},
   "outputs": [
    {
     "data": {
      "text/plain": [
       "array([[ 5.71497081e-07, -8.34509443e-07],\n",
       "       [-8.34509443e-07,  1.25380877e-06]])"
      ]
     },
     "execution_count": 51,
     "metadata": {},
     "output_type": "execute_result"
    }
   ],
   "source": [
    "# 6 invert \n",
    "XTX_inv = np.linalg.inv(XTX)\n",
    "XTX_inv"
   ]
  },
  {
   "cell_type": "code",
   "execution_count": 53,
   "id": "8f22f4f8",
   "metadata": {},
   "outputs": [
    {
     "data": {
      "text/plain": [
       "array([1100, 1300,  800,  900, 1000, 1100, 1200])"
      ]
     },
     "execution_count": 53,
     "metadata": {},
     "output_type": "execute_result"
    }
   ],
   "source": [
    "# 7 Create an array y with values [1100, 1300, 800, 900, 1000, 1100, 1200].\n",
    "y = np.array([1100, 1300, 800, 900, 1000, 1100, 1200])\n",
    "y"
   ]
  },
  {
   "cell_type": "code",
   "execution_count": 54,
   "id": "b6e359e1",
   "metadata": {},
   "outputs": [
    {
     "data": {
      "text/plain": [
       "array([0.01386421, 0.5049067 ])"
      ]
     },
     "execution_count": 54,
     "metadata": {},
     "output_type": "execute_result"
    }
   ],
   "source": [
    "# calculate w \n",
    "w = XTX_inv.dot(X.T).dot(y)\n",
    "w"
   ]
  },
  {
   "cell_type": "code",
   "execution_count": 57,
   "id": "d177e2ea",
   "metadata": {},
   "outputs": [
    {
     "data": {
      "text/plain": [
       "np.float64(0.519)"
      ]
     },
     "execution_count": 57,
     "metadata": {},
     "output_type": "execute_result"
    }
   ],
   "source": [
    "# sum of w elements \n",
    "w.sum().round(3)"
   ]
  },
  {
   "cell_type": "code",
   "execution_count": null,
   "id": "bb55102c",
   "metadata": {},
   "outputs": [],
   "source": []
  }
 ],
 "metadata": {
  "kernelspec": {
   "display_name": "Python 3",
   "language": "python",
   "name": "python3"
  },
  "language_info": {
   "codemirror_mode": {
    "name": "ipython",
    "version": 3
   },
   "file_extension": ".py",
   "mimetype": "text/x-python",
   "name": "python",
   "nbconvert_exporter": "python",
   "pygments_lexer": "ipython3",
   "version": "3.12.1"
  }
 },
 "nbformat": 4,
 "nbformat_minor": 5
}
